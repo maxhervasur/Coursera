{
 "cells": [
  {
   "cell_type": "markdown",
   "metadata": {},
   "source": [
    "<center>\n",
    "    <img src=\"https://cf-courses-data.s3.us.cloud-object-storage.appdomain.cloud/IBMDeveloperSkillsNetwork-DS0105EN-SkillsNetwork/labs/Module2/images/SN_web_lightmode.png\" width=\"300\" alt=\"cognitiveclass.ai logo\">\n",
    "</center>\n"
   ]
  },
  {
   "cell_type": "markdown",
   "metadata": {},
   "source": [
    "#### Add your code below following the instructions given in the course\n"
   ]
  },
  {
   "cell_type": "markdown",
   "metadata": {},
   "source": [
    "# Data Science Essentials"
   ]
  },
  {
   "cell_type": "markdown",
   "metadata": {},
   "source": [
    "## Welcome to this notebook on Data Science Essentials. Here, we will explore foundational elements of data science, including key languages, libraries, tools, and simple arithmetic expressions."
   ]
  },
  {
   "cell_type": "markdown",
   "metadata": {},
   "source": [
    "**Main Data Science Languages:**\n",
    "- Python\n",
    "- R\n",
    "- SQL\n",
    "- Julia\n",
    "- Scala"
   ]
  },
  {
   "cell_type": "markdown",
   "metadata": {},
   "source": [
    "**Main Data Science Libraries:**\n",
    "- Pandas: Data manipulation and analysis\n",
    "- NumPy: Numerical computing\n",
    "- Matplotlib: Data visualization\n",
    "- Seaborn: Statistical plots\n",
    "- Scikit-learn: Machine learning\n",
    "- TensorFlow / PyTorch: Deep learning"
   ]
  },
  {
   "cell_type": "markdown",
   "metadata": {},
   "source": [
    "**Table of Data Science Tools:**\n",
    "|Tool Name        |Category            |Description                     |\n",
    "|-----------------|--------------------|---------------------------------------------|\n",
    "|Jupyter Notebook |IDE / Notebook\t   |Interactive computing environment|\n",
    "|RStudio\t      |IDE\t               |Development environment for R|\n",
    "|Apache Spark\t  | Big Data Processing|Cluster-computing framework|\n",
    "|Tableau\t      |Data Visualization  |Business intelligence and data visualization|\n",
    "|VS Code\t      |Code Editor\t       |Lightweight but powerful code editor|"
   ]
  },
  {
   "cell_type": "markdown",
   "metadata": {},
   "source": [
    "**Below are a few examples of arithmetic expressions in Python:**\n",
    "- 3 + 4      -> Addition\n",
    "- 10 - 2     -> Subtraction\n",
    "- 5 * 6      -> Multiplication\n",
    "- 8 / 2      -> Division\n",
    "- 2 ** 3     -> Exponentiation"
   ]
  },
  {
   "cell_type": "code",
   "execution_count": null,
   "metadata": {},
   "outputs": [],
   "source": [
    "# Multiply and add numbers\n",
    "a = 6\n",
    "b = 4\n",
    "product = a * b\n",
    "sum_result = a + b\n",
    "print(f\"This cell delivers the addition and multiplication of 2 numbers: {a} and {b}\")\n",
    "print(\"**Multiplication:**\", product)\n",
    "print(\"Addition:\", sum_result)"
   ]
  },
  {
   "cell_type": "code",
   "execution_count": null,
   "metadata": {},
   "outputs": [],
   "source": [
    "minutes = 90\n",
    "hours = minutes/60\n",
    "print(f\"{minutes} minutes is equal to {hours} hours\")"
   ]
  },
  {
   "cell_type": "markdown",
   "metadata": {},
   "source": [
    "**Objectives of this Notebook:**\n",
    "- Understand basic Data Science components\n",
    "- Practice Markdown and code cell formatting\n",
    "- Explore common tools, libraries, and languages\n",
    "- Perform simple arithmetic and conversions\n",
    "- Share and present notebooks effectively"
   ]
  },
  {
   "cell_type": "markdown",
   "metadata": {},
   "source": [
    "**Author:** Maximiliano Vásquez Uribe"
   ]
  }
 ],
 "metadata": {
  "kernelspec": {
   "display_name": "Python 3 (ipykernel)",
   "language": "python",
   "name": "python3"
  },
  "language_info": {
   "codemirror_mode": {
    "name": "ipython",
    "version": 3
   },
   "file_extension": ".py",
   "mimetype": "text/x-python",
   "name": "python",
   "nbconvert_exporter": "python",
   "pygments_lexer": "ipython3",
   "version": "3.12.8"
  }
 },
 "nbformat": 4,
 "nbformat_minor": 4
}
